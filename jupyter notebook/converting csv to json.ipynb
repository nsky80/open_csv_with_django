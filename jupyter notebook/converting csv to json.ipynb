{
 "cells": [
  {
   "cell_type": "code",
   "execution_count": 1,
   "metadata": {},
   "outputs": [],
   "source": [
    "import json"
   ]
  },
  {
   "cell_type": "code",
   "execution_count": 3,
   "metadata": {},
   "outputs": [],
   "source": [
    "import json\n",
    "my_list = ['a', 'b', 'c']\n",
    "my_json_string = json.dumps(my_list)\n"
   ]
  },
  {
   "cell_type": "code",
   "execution_count": 4,
   "metadata": {},
   "outputs": [
    {
     "data": {
      "text/plain": [
       "'[\"a\", \"b\", \"c\"]'"
      ]
     },
     "execution_count": 4,
     "metadata": {},
     "output_type": "execute_result"
    }
   ],
   "source": [
    "my_json_string"
   ]
  },
  {
   "cell_type": "code",
   "execution_count": 5,
   "metadata": {},
   "outputs": [
    {
     "name": "stdout",
     "output_type": "stream",
     "text": [
      "<class 'str'>\n"
     ]
    }
   ],
   "source": [
    "print(type(my_json_string))"
   ]
  },
  {
   "cell_type": "code",
   "execution_count": 9,
   "metadata": {},
   "outputs": [
    {
     "name": "stdout",
     "output_type": "stream",
     "text": [
      "JSON parsed!\n"
     ]
    }
   ],
   "source": [
    "import csv  \n",
    "import json  \n",
    "  \n",
    "# Open the CSV  \n",
    "f = open( 'check_data.csv', 'r' )  \n",
    "# Change each fieldname to the appropriate field name. I know, so difficult.  \n",
    "reader = csv.DictReader( f, fieldnames = ( \"fieldname0\",\"fieldname1\",\"fieldname2\",\"fieldname3\" ))  \n",
    "# Parse the CSV into JSON  \n",
    "out = json.dumps( [ row for row in reader ] )  \n",
    "print(\"JSON parsed!\")  \n"
   ]
  },
  {
   "cell_type": "code",
   "execution_count": 10,
   "metadata": {},
   "outputs": [
    {
     "data": {
      "text/plain": [
       "'[{\"fieldname0\": \"\\\\u00ef\\\\u00bb\\\\u00bfName\", \"fieldname1\": \"id\", \"fieldname2\": \"marks\", \"fieldname3\": \"address\"}, {\"fieldname0\": \"Satish\", \"fieldname1\": \"34\", \"fieldname2\": \"84\", \"fieldname3\": \"vimal sadan\"}, {\"fieldname0\": \"Shivam\", \"fieldname1\": \"56\", \"fieldname2\": \"93\", \"fieldname3\": \"vimal sadan\"}, {\"fieldname0\": \"shubham\", \"fieldname1\": \"85\", \"fieldname2\": \"3\", \"fieldname3\": \"vimal sadan\"}, {\"fieldname0\": \"satyendra\", \"fieldname1\": \"85\", \"fieldname2\": \"58\", \"fieldname3\": \"sanskar sadan\"}]'"
      ]
     },
     "execution_count": 10,
     "metadata": {},
     "output_type": "execute_result"
    }
   ],
   "source": [
    "out"
   ]
  },
  {
   "cell_type": "code",
   "execution_count": 11,
   "metadata": {},
   "outputs": [],
   "source": [
    "d = {\"a\": [1, 2, 3], \"b\": ['satish', 'shivam', 'shubham'], \"c\": [4, 55, 34]}"
   ]
  },
  {
   "cell_type": "code",
   "execution_count": 12,
   "metadata": {},
   "outputs": [],
   "source": [
    "a = json.dumps(d)"
   ]
  },
  {
   "cell_type": "code",
   "execution_count": 13,
   "metadata": {},
   "outputs": [
    {
     "data": {
      "text/plain": [
       "'{\"a\": [1, 2, 3], \"b\": [\"satish\", \"shivam\", \"shubham\"], \"c\": [4, 55, 34]}'"
      ]
     },
     "execution_count": 13,
     "metadata": {},
     "output_type": "execute_result"
    }
   ],
   "source": [
    "a"
   ]
  },
  {
   "cell_type": "code",
   "execution_count": 14,
   "metadata": {},
   "outputs": [
    {
     "data": {
      "text/plain": [
       "str"
      ]
     },
     "execution_count": 14,
     "metadata": {},
     "output_type": "execute_result"
    }
   ],
   "source": [
    "type(a)"
   ]
  },
  {
   "cell_type": "code",
   "execution_count": 15,
   "metadata": {},
   "outputs": [],
   "source": [
    "header = ['a', 'b', 'c', 'd']"
   ]
  },
  {
   "cell_type": "code",
   "execution_count": 16,
   "metadata": {},
   "outputs": [],
   "source": [
    "data = dict(zip(header, []*len(header)))"
   ]
  },
  {
   "cell_type": "code",
   "execution_count": 17,
   "metadata": {},
   "outputs": [
    {
     "data": {
      "text/plain": [
       "{}"
      ]
     },
     "execution_count": 17,
     "metadata": {},
     "output_type": "execute_result"
    }
   ],
   "source": [
    "data"
   ]
  },
  {
   "cell_type": "code",
   "execution_count": 19,
   "metadata": {},
   "outputs": [
    {
     "name": "stdout",
     "output_type": "stream",
     "text": [
      "[('a', 1), ('b', 1), ('c', 1), ('d', 1)]\n"
     ]
    }
   ],
   "source": [
    "print(list(zip(header, [1]*len(header))))"
   ]
  },
  {
   "cell_type": "code",
   "execution_count": 20,
   "metadata": {},
   "outputs": [
    {
     "data": {
      "text/plain": [
       "{1: None, 2: None, 3: None, 4: None}"
      ]
     },
     "execution_count": 20,
     "metadata": {},
     "output_type": "execute_result"
    }
   ],
   "source": [
    "dict.fromkeys([1, 2, 3, 4])"
   ]
  },
  {
   "cell_type": "code",
   "execution_count": 22,
   "metadata": {},
   "outputs": [
    {
     "data": {
      "text/plain": [
       "{1: [], 2: [], 3: [], 4: []}"
      ]
     },
     "execution_count": 22,
     "metadata": {},
     "output_type": "execute_result"
    }
   ],
   "source": [
    "dict.fromkeys([1, 2, 3, 4], [])\n"
   ]
  },
  {
   "cell_type": "code",
   "execution_count": 23,
   "metadata": {},
   "outputs": [],
   "source": [
    "lines = ['Satish,34,84,vimal sadan ', 'Shivam,56,93,vimal sadan ', 'shubham,85,3,vimal sadan ', 'satyendra,85,58,sanskar sadan ', '']"
   ]
  },
  {
   "cell_type": "code",
   "execution_count": 27,
   "metadata": {},
   "outputs": [],
   "source": [
    "header = ['Name', 'id', 'marks', 'address']"
   ]
  },
  {
   "cell_type": "code",
   "execution_count": 35,
   "metadata": {},
   "outputs": [],
   "source": [
    "data = dict.fromkeys(header)"
   ]
  },
  {
   "cell_type": "code",
   "execution_count": 33,
   "metadata": {},
   "outputs": [],
   "source": []
  },
  {
   "cell_type": "code",
   "execution_count": 29,
   "metadata": {},
   "outputs": [],
   "source": [
    "\n",
    "\n",
    "for line in lines:\t\t\t\t\t\t\n",
    "    fields = line[:-1].split(\",\")\n",
    "    if line:\n",
    "        for i, head in enumerate(header):\n",
    "            data[head].append(fields[i])"
   ]
  },
  {
   "cell_type": "code",
   "execution_count": 36,
   "metadata": {},
   "outputs": [
    {
     "data": {
      "text/plain": [
       "{'Name': None, 'id': None, 'marks': None, 'address': None}"
      ]
     },
     "execution_count": 36,
     "metadata": {},
     "output_type": "execute_result"
    }
   ],
   "source": [
    "data"
   ]
  },
  {
   "cell_type": "code",
   "execution_count": 50,
   "metadata": {},
   "outputs": [],
   "source": [
    "from collections import defaultdict"
   ]
  },
  {
   "cell_type": "code",
   "execution_count": 51,
   "metadata": {},
   "outputs": [],
   "source": [
    "data = defaultdict(list)"
   ]
  },
  {
   "cell_type": "code",
   "execution_count": 52,
   "metadata": {},
   "outputs": [
    {
     "data": {
      "text/plain": [
       "defaultdict(None, {'Name': None, 'id': None, 'marks': None, 'address': None})"
      ]
     },
     "execution_count": 52,
     "metadata": {},
     "output_type": "execute_result"
    }
   ],
   "source": [
    "data.fromkeys(header)"
   ]
  },
  {
   "cell_type": "code",
   "execution_count": 53,
   "metadata": {},
   "outputs": [],
   "source": [
    "data['Name'] = ['Satish', 'Shivam', 'shubham', 'satyendra']"
   ]
  },
  {
   "cell_type": "code",
   "execution_count": 54,
   "metadata": {},
   "outputs": [],
   "source": [
    "data['id'] = ['34', '56', '85', '85']"
   ]
  },
  {
   "cell_type": "code",
   "execution_count": 55,
   "metadata": {},
   "outputs": [],
   "source": [
    "data['marks'] = ['84', '93', '3', '58']"
   ]
  },
  {
   "cell_type": "code",
   "execution_count": 56,
   "metadata": {},
   "outputs": [],
   "source": [
    "data['address'] =  ['vimal sadan', 'vimal sadan', 'vimal sadan', 'sanskar sadan']"
   ]
  },
  {
   "cell_type": "code",
   "execution_count": 57,
   "metadata": {},
   "outputs": [
    {
     "data": {
      "text/plain": [
       "defaultdict(list,\n",
       "            {'Name': ['Satish', 'Shivam', 'shubham', 'satyendra'],\n",
       "             'id': ['34', '56', '85', '85'],\n",
       "             'marks': ['84', '93', '3', '58'],\n",
       "             'address': ['vimal sadan',\n",
       "              'vimal sadan',\n",
       "              'vimal sadan',\n",
       "              'sanskar sadan']})"
      ]
     },
     "execution_count": 57,
     "metadata": {},
     "output_type": "execute_result"
    }
   ],
   "source": [
    "data"
   ]
  },
  {
   "cell_type": "code",
   "execution_count": 58,
   "metadata": {},
   "outputs": [
    {
     "data": {
      "text/plain": [
       "'{\"Name\": [\"Satish\", \"Shivam\", \"shubham\", \"satyendra\"], \"id\": [\"34\", \"56\", \"85\", \"85\"], \"marks\": [\"84\", \"93\", \"3\", \"58\"], \"address\": [\"vimal sadan\", \"vimal sadan\", \"vimal sadan\", \"sanskar sadan\"]}'"
      ]
     },
     "execution_count": 58,
     "metadata": {},
     "output_type": "execute_result"
    }
   ],
   "source": [
    "json.dumps(data)"
   ]
  },
  {
   "cell_type": "code",
   "execution_count": 67,
   "metadata": {},
   "outputs": [],
   "source": [
    "import pandas as pd"
   ]
  },
  {
   "cell_type": "code",
   "execution_count": 68,
   "metadata": {},
   "outputs": [],
   "source": [
    "df = pd.DataFrame(data)"
   ]
  },
  {
   "cell_type": "code",
   "execution_count": 69,
   "metadata": {},
   "outputs": [
    {
     "data": {
      "text/html": [
       "<div>\n",
       "<style scoped>\n",
       "    .dataframe tbody tr th:only-of-type {\n",
       "        vertical-align: middle;\n",
       "    }\n",
       "\n",
       "    .dataframe tbody tr th {\n",
       "        vertical-align: top;\n",
       "    }\n",
       "\n",
       "    .dataframe thead th {\n",
       "        text-align: right;\n",
       "    }\n",
       "</style>\n",
       "<table border=\"1\" class=\"dataframe\">\n",
       "  <thead>\n",
       "    <tr style=\"text-align: right;\">\n",
       "      <th></th>\n",
       "      <th>Name</th>\n",
       "      <th>id</th>\n",
       "      <th>marks</th>\n",
       "      <th>address</th>\n",
       "    </tr>\n",
       "  </thead>\n",
       "  <tbody>\n",
       "    <tr>\n",
       "      <th>0</th>\n",
       "      <td>Satish</td>\n",
       "      <td>34</td>\n",
       "      <td>84</td>\n",
       "      <td>vimal sadan</td>\n",
       "    </tr>\n",
       "    <tr>\n",
       "      <th>1</th>\n",
       "      <td>Shivam</td>\n",
       "      <td>56</td>\n",
       "      <td>93</td>\n",
       "      <td>vimal sadan</td>\n",
       "    </tr>\n",
       "    <tr>\n",
       "      <th>2</th>\n",
       "      <td>shubham</td>\n",
       "      <td>85</td>\n",
       "      <td>3</td>\n",
       "      <td>vimal sadan</td>\n",
       "    </tr>\n",
       "    <tr>\n",
       "      <th>3</th>\n",
       "      <td>satyendra</td>\n",
       "      <td>85</td>\n",
       "      <td>58</td>\n",
       "      <td>sanskar sadan</td>\n",
       "    </tr>\n",
       "  </tbody>\n",
       "</table>\n",
       "</div>"
      ],
      "text/plain": [
       "        Name  id marks        address\n",
       "0     Satish  34    84    vimal sadan\n",
       "1     Shivam  56    93    vimal sadan\n",
       "2    shubham  85     3    vimal sadan\n",
       "3  satyendra  85    58  sanskar sadan"
      ]
     },
     "execution_count": 69,
     "metadata": {},
     "output_type": "execute_result"
    }
   ],
   "source": [
    "df"
   ]
  },
  {
   "cell_type": "code",
   "execution_count": 70,
   "metadata": {},
   "outputs": [
    {
     "data": {
      "text/plain": [
       "<bound method DataFrame.corr of         Name  id marks        address\n",
       "0     Satish  34    84    vimal sadan\n",
       "1     Shivam  56    93    vimal sadan\n",
       "2    shubham  85     3    vimal sadan\n",
       "3  satyendra  85    58  sanskar sadan>"
      ]
     },
     "execution_count": 70,
     "metadata": {},
     "output_type": "execute_result"
    }
   ],
   "source": [
    "df.corr"
   ]
  },
  {
   "cell_type": "code",
   "execution_count": 71,
   "metadata": {},
   "outputs": [
    {
     "data": {
      "text/html": [
       "<div>\n",
       "<style scoped>\n",
       "    .dataframe tbody tr th:only-of-type {\n",
       "        vertical-align: middle;\n",
       "    }\n",
       "\n",
       "    .dataframe tbody tr th {\n",
       "        vertical-align: top;\n",
       "    }\n",
       "\n",
       "    .dataframe thead th {\n",
       "        text-align: right;\n",
       "    }\n",
       "</style>\n",
       "<table border=\"1\" class=\"dataframe\">\n",
       "  <thead>\n",
       "    <tr style=\"text-align: right;\">\n",
       "      <th></th>\n",
       "    </tr>\n",
       "  </thead>\n",
       "  <tbody>\n",
       "  </tbody>\n",
       "</table>\n",
       "</div>"
      ],
      "text/plain": [
       "Empty DataFrame\n",
       "Columns: []\n",
       "Index: []"
      ]
     },
     "execution_count": 71,
     "metadata": {},
     "output_type": "execute_result"
    }
   ],
   "source": [
    "df.corr()"
   ]
  },
  {
   "cell_type": "code",
   "execution_count": 72,
   "metadata": {},
   "outputs": [
    {
     "name": "stdout",
     "output_type": "stream",
     "text": [
      "Empty DataFrame\n",
      "Columns: []\n",
      "Index: []\n"
     ]
    }
   ],
   "source": [
    "print(df.corr())"
   ]
  },
  {
   "cell_type": "code",
   "execution_count": 73,
   "metadata": {},
   "outputs": [
    {
     "data": {
      "text/html": [
       "<div>\n",
       "<style scoped>\n",
       "    .dataframe tbody tr th:only-of-type {\n",
       "        vertical-align: middle;\n",
       "    }\n",
       "\n",
       "    .dataframe tbody tr th {\n",
       "        vertical-align: top;\n",
       "    }\n",
       "\n",
       "    .dataframe thead th {\n",
       "        text-align: right;\n",
       "    }\n",
       "</style>\n",
       "<table border=\"1\" class=\"dataframe\">\n",
       "  <thead>\n",
       "    <tr style=\"text-align: right;\">\n",
       "      <th></th>\n",
       "      <th>Name</th>\n",
       "      <th>id</th>\n",
       "      <th>marks</th>\n",
       "      <th>address</th>\n",
       "    </tr>\n",
       "  </thead>\n",
       "  <tbody>\n",
       "    <tr>\n",
       "      <th>0</th>\n",
       "      <td>Satish</td>\n",
       "      <td>34</td>\n",
       "      <td>84</td>\n",
       "      <td>vimal sadan</td>\n",
       "    </tr>\n",
       "    <tr>\n",
       "      <th>1</th>\n",
       "      <td>Shivam</td>\n",
       "      <td>56</td>\n",
       "      <td>93</td>\n",
       "      <td>vimal sadan</td>\n",
       "    </tr>\n",
       "    <tr>\n",
       "      <th>2</th>\n",
       "      <td>shubham</td>\n",
       "      <td>85</td>\n",
       "      <td>3</td>\n",
       "      <td>vimal sadan</td>\n",
       "    </tr>\n",
       "    <tr>\n",
       "      <th>3</th>\n",
       "      <td>satyendra</td>\n",
       "      <td>85</td>\n",
       "      <td>58</td>\n",
       "      <td>sanskar sadan</td>\n",
       "    </tr>\n",
       "  </tbody>\n",
       "</table>\n",
       "</div>"
      ],
      "text/plain": [
       "        Name  id marks        address\n",
       "0     Satish  34    84    vimal sadan\n",
       "1     Shivam  56    93    vimal sadan\n",
       "2    shubham  85     3    vimal sadan\n",
       "3  satyendra  85    58  sanskar sadan"
      ]
     },
     "execution_count": 73,
     "metadata": {},
     "output_type": "execute_result"
    }
   ],
   "source": [
    "df"
   ]
  },
  {
   "cell_type": "code",
   "execution_count": 75,
   "metadata": {},
   "outputs": [
    {
     "data": {
      "text/html": [
       "<style  type=\"text/css\" >\n",
       "</style><table id=\"T_44194b1c_f02f_11e9_9667_107d1a1d9add\" ><thead></thead><tbody>\n",
       "        </tbody></table>"
      ],
      "text/plain": [
       "<pandas.io.formats.style.Styler at 0x15181ae3978>"
      ]
     },
     "execution_count": 75,
     "metadata": {},
     "output_type": "execute_result"
    }
   ],
   "source": [
    "import pandas as pd\n",
    "import numpy as np\n",
    "\n",
    "rs = np.random.RandomState(0)\n",
    "# df = pd.DataFrame(rs.rand(10, 10))\n",
    "corr = df.corr()\n",
    "corr.style.background_gradient(cmap='coolwarm')"
   ]
  },
  {
   "cell_type": "code",
   "execution_count": 76,
   "metadata": {},
   "outputs": [
    {
     "data": {
      "text/html": [
       "<div>\n",
       "<style scoped>\n",
       "    .dataframe tbody tr th:only-of-type {\n",
       "        vertical-align: middle;\n",
       "    }\n",
       "\n",
       "    .dataframe tbody tr th {\n",
       "        vertical-align: top;\n",
       "    }\n",
       "\n",
       "    .dataframe thead th {\n",
       "        text-align: right;\n",
       "    }\n",
       "</style>\n",
       "<table border=\"1\" class=\"dataframe\">\n",
       "  <thead>\n",
       "    <tr style=\"text-align: right;\">\n",
       "      <th></th>\n",
       "    </tr>\n",
       "  </thead>\n",
       "  <tbody>\n",
       "  </tbody>\n",
       "</table>\n",
       "</div>"
      ],
      "text/plain": [
       "Empty DataFrame\n",
       "Columns: []\n",
       "Index: []"
      ]
     },
     "execution_count": 76,
     "metadata": {},
     "output_type": "execute_result"
    }
   ],
   "source": [
    "corr"
   ]
  },
  {
   "cell_type": "code",
   "execution_count": 78,
   "metadata": {},
   "outputs": [],
   "source": [
    "df1 = df"
   ]
  },
  {
   "cell_type": "code",
   "execution_count": 79,
   "metadata": {},
   "outputs": [],
   "source": [
    "from sklearn import preprocessing\n",
    "\n",
    "for x in df1.columns:\n",
    "    if df1[x].dtype == 'object':\n",
    "        lbl = preprocessing.LabelEncoder()\n",
    "        lbl.fit(list(df1[x].values))\n",
    "        df1[x] = lbl.transform(list(df1[x].values))"
   ]
  },
  {
   "cell_type": "code",
   "execution_count": 80,
   "metadata": {},
   "outputs": [
    {
     "data": {
      "text/html": [
       "<div>\n",
       "<style scoped>\n",
       "    .dataframe tbody tr th:only-of-type {\n",
       "        vertical-align: middle;\n",
       "    }\n",
       "\n",
       "    .dataframe tbody tr th {\n",
       "        vertical-align: top;\n",
       "    }\n",
       "\n",
       "    .dataframe thead th {\n",
       "        text-align: right;\n",
       "    }\n",
       "</style>\n",
       "<table border=\"1\" class=\"dataframe\">\n",
       "  <thead>\n",
       "    <tr style=\"text-align: right;\">\n",
       "      <th></th>\n",
       "      <th>Name</th>\n",
       "      <th>id</th>\n",
       "      <th>marks</th>\n",
       "      <th>address</th>\n",
       "    </tr>\n",
       "  </thead>\n",
       "  <tbody>\n",
       "    <tr>\n",
       "      <th>0</th>\n",
       "      <td>0</td>\n",
       "      <td>0</td>\n",
       "      <td>2</td>\n",
       "      <td>1</td>\n",
       "    </tr>\n",
       "    <tr>\n",
       "      <th>1</th>\n",
       "      <td>1</td>\n",
       "      <td>1</td>\n",
       "      <td>3</td>\n",
       "      <td>1</td>\n",
       "    </tr>\n",
       "    <tr>\n",
       "      <th>2</th>\n",
       "      <td>3</td>\n",
       "      <td>2</td>\n",
       "      <td>0</td>\n",
       "      <td>1</td>\n",
       "    </tr>\n",
       "    <tr>\n",
       "      <th>3</th>\n",
       "      <td>2</td>\n",
       "      <td>2</td>\n",
       "      <td>1</td>\n",
       "      <td>0</td>\n",
       "    </tr>\n",
       "  </tbody>\n",
       "</table>\n",
       "</div>"
      ],
      "text/plain": [
       "   Name  id  marks  address\n",
       "0     0   0      2        1\n",
       "1     1   1      3        1\n",
       "2     3   2      0        1\n",
       "3     2   2      1        0"
      ]
     },
     "execution_count": 80,
     "metadata": {},
     "output_type": "execute_result"
    }
   ],
   "source": [
    "df1"
   ]
  },
  {
   "cell_type": "code",
   "execution_count": 82,
   "metadata": {},
   "outputs": [
    {
     "data": {
      "text/html": [
       "<div>\n",
       "<style scoped>\n",
       "    .dataframe tbody tr th:only-of-type {\n",
       "        vertical-align: middle;\n",
       "    }\n",
       "\n",
       "    .dataframe tbody tr th {\n",
       "        vertical-align: top;\n",
       "    }\n",
       "\n",
       "    .dataframe thead th {\n",
       "        text-align: right;\n",
       "    }\n",
       "</style>\n",
       "<table border=\"1\" class=\"dataframe\">\n",
       "  <thead>\n",
       "    <tr style=\"text-align: right;\">\n",
       "      <th></th>\n",
       "      <th>Name</th>\n",
       "      <th>id</th>\n",
       "      <th>marks</th>\n",
       "      <th>address</th>\n",
       "    </tr>\n",
       "  </thead>\n",
       "  <tbody>\n",
       "    <tr>\n",
       "      <th>Name</th>\n",
       "      <td>1.000000</td>\n",
       "      <td>0.943880</td>\n",
       "      <td>-0.800000</td>\n",
       "      <td>-0.258199</td>\n",
       "    </tr>\n",
       "    <tr>\n",
       "      <th>id</th>\n",
       "      <td>0.943880</td>\n",
       "      <td>1.000000</td>\n",
       "      <td>-0.674200</td>\n",
       "      <td>-0.522233</td>\n",
       "    </tr>\n",
       "    <tr>\n",
       "      <th>marks</th>\n",
       "      <td>-0.800000</td>\n",
       "      <td>-0.674200</td>\n",
       "      <td>1.000000</td>\n",
       "      <td>0.258199</td>\n",
       "    </tr>\n",
       "    <tr>\n",
       "      <th>address</th>\n",
       "      <td>-0.258199</td>\n",
       "      <td>-0.522233</td>\n",
       "      <td>0.258199</td>\n",
       "      <td>1.000000</td>\n",
       "    </tr>\n",
       "  </tbody>\n",
       "</table>\n",
       "</div>"
      ],
      "text/plain": [
       "             Name        id     marks   address\n",
       "Name     1.000000  0.943880 -0.800000 -0.258199\n",
       "id       0.943880  1.000000 -0.674200 -0.522233\n",
       "marks   -0.800000 -0.674200  1.000000  0.258199\n",
       "address -0.258199 -0.522233  0.258199  1.000000"
      ]
     },
     "execution_count": 82,
     "metadata": {},
     "output_type": "execute_result"
    }
   ],
   "source": [
    "df1.corr()"
   ]
  },
  {
   "cell_type": "code",
   "execution_count": 83,
   "metadata": {},
   "outputs": [
    {
     "data": {
      "text/html": [
       "<style  type=\"text/css\" >\n",
       "    #T_ede6066c_f03a_11e9_9428_107d1a1d9addrow0_col0 {\n",
       "            background-color:  #b40426;\n",
       "            color:  #f1f1f1;\n",
       "        }    #T_ede6066c_f03a_11e9_9428_107d1a1d9addrow0_col1 {\n",
       "            background-color:  #c0282f;\n",
       "            color:  #f1f1f1;\n",
       "        }    #T_ede6066c_f03a_11e9_9428_107d1a1d9addrow0_col2 {\n",
       "            background-color:  #3b4cc0;\n",
       "            color:  #f1f1f1;\n",
       "        }    #T_ede6066c_f03a_11e9_9428_107d1a1d9addrow0_col3 {\n",
       "            background-color:  #7295f4;\n",
       "            color:  #000000;\n",
       "        }    #T_ede6066c_f03a_11e9_9428_107d1a1d9addrow1_col0 {\n",
       "            background-color:  #be242e;\n",
       "            color:  #f1f1f1;\n",
       "        }    #T_ede6066c_f03a_11e9_9428_107d1a1d9addrow1_col1 {\n",
       "            background-color:  #b40426;\n",
       "            color:  #f1f1f1;\n",
       "        }    #T_ede6066c_f03a_11e9_9428_107d1a1d9addrow1_col2 {\n",
       "            background-color:  #4f69d9;\n",
       "            color:  #000000;\n",
       "        }    #T_ede6066c_f03a_11e9_9428_107d1a1d9addrow1_col3 {\n",
       "            background-color:  #3b4cc0;\n",
       "            color:  #f1f1f1;\n",
       "        }    #T_ede6066c_f03a_11e9_9428_107d1a1d9addrow2_col0 {\n",
       "            background-color:  #3b4cc0;\n",
       "            color:  #f1f1f1;\n",
       "        }    #T_ede6066c_f03a_11e9_9428_107d1a1d9addrow2_col1 {\n",
       "            background-color:  #3b4cc0;\n",
       "            color:  #f1f1f1;\n",
       "        }    #T_ede6066c_f03a_11e9_9428_107d1a1d9addrow2_col2 {\n",
       "            background-color:  #b40426;\n",
       "            color:  #f1f1f1;\n",
       "        }    #T_ede6066c_f03a_11e9_9428_107d1a1d9addrow2_col3 {\n",
       "            background-color:  #e0dbd8;\n",
       "            color:  #000000;\n",
       "        }    #T_ede6066c_f03a_11e9_9428_107d1a1d9addrow3_col0 {\n",
       "            background-color:  #9fbfff;\n",
       "            color:  #000000;\n",
       "        }    #T_ede6066c_f03a_11e9_9428_107d1a1d9addrow3_col1 {\n",
       "            background-color:  #5673e0;\n",
       "            color:  #000000;\n",
       "        }    #T_ede6066c_f03a_11e9_9428_107d1a1d9addrow3_col2 {\n",
       "            background-color:  #f0cdbb;\n",
       "            color:  #000000;\n",
       "        }    #T_ede6066c_f03a_11e9_9428_107d1a1d9addrow3_col3 {\n",
       "            background-color:  #b40426;\n",
       "            color:  #f1f1f1;\n",
       "        }</style><table id=\"T_ede6066c_f03a_11e9_9428_107d1a1d9add\" ><thead>    <tr>        <th class=\"blank level0\" ></th>        <th class=\"col_heading level0 col0\" >Name</th>        <th class=\"col_heading level0 col1\" >id</th>        <th class=\"col_heading level0 col2\" >marks</th>        <th class=\"col_heading level0 col3\" >address</th>    </tr></thead><tbody>\n",
       "                <tr>\n",
       "                        <th id=\"T_ede6066c_f03a_11e9_9428_107d1a1d9addlevel0_row0\" class=\"row_heading level0 row0\" >Name</th>\n",
       "                        <td id=\"T_ede6066c_f03a_11e9_9428_107d1a1d9addrow0_col0\" class=\"data row0 col0\" >1</td>\n",
       "                        <td id=\"T_ede6066c_f03a_11e9_9428_107d1a1d9addrow0_col1\" class=\"data row0 col1\" >0.94388</td>\n",
       "                        <td id=\"T_ede6066c_f03a_11e9_9428_107d1a1d9addrow0_col2\" class=\"data row0 col2\" >-0.8</td>\n",
       "                        <td id=\"T_ede6066c_f03a_11e9_9428_107d1a1d9addrow0_col3\" class=\"data row0 col3\" >-0.258199</td>\n",
       "            </tr>\n",
       "            <tr>\n",
       "                        <th id=\"T_ede6066c_f03a_11e9_9428_107d1a1d9addlevel0_row1\" class=\"row_heading level0 row1\" >id</th>\n",
       "                        <td id=\"T_ede6066c_f03a_11e9_9428_107d1a1d9addrow1_col0\" class=\"data row1 col0\" >0.94388</td>\n",
       "                        <td id=\"T_ede6066c_f03a_11e9_9428_107d1a1d9addrow1_col1\" class=\"data row1 col1\" >1</td>\n",
       "                        <td id=\"T_ede6066c_f03a_11e9_9428_107d1a1d9addrow1_col2\" class=\"data row1 col2\" >-0.6742</td>\n",
       "                        <td id=\"T_ede6066c_f03a_11e9_9428_107d1a1d9addrow1_col3\" class=\"data row1 col3\" >-0.522233</td>\n",
       "            </tr>\n",
       "            <tr>\n",
       "                        <th id=\"T_ede6066c_f03a_11e9_9428_107d1a1d9addlevel0_row2\" class=\"row_heading level0 row2\" >marks</th>\n",
       "                        <td id=\"T_ede6066c_f03a_11e9_9428_107d1a1d9addrow2_col0\" class=\"data row2 col0\" >-0.8</td>\n",
       "                        <td id=\"T_ede6066c_f03a_11e9_9428_107d1a1d9addrow2_col1\" class=\"data row2 col1\" >-0.6742</td>\n",
       "                        <td id=\"T_ede6066c_f03a_11e9_9428_107d1a1d9addrow2_col2\" class=\"data row2 col2\" >1</td>\n",
       "                        <td id=\"T_ede6066c_f03a_11e9_9428_107d1a1d9addrow2_col3\" class=\"data row2 col3\" >0.258199</td>\n",
       "            </tr>\n",
       "            <tr>\n",
       "                        <th id=\"T_ede6066c_f03a_11e9_9428_107d1a1d9addlevel0_row3\" class=\"row_heading level0 row3\" >address</th>\n",
       "                        <td id=\"T_ede6066c_f03a_11e9_9428_107d1a1d9addrow3_col0\" class=\"data row3 col0\" >-0.258199</td>\n",
       "                        <td id=\"T_ede6066c_f03a_11e9_9428_107d1a1d9addrow3_col1\" class=\"data row3 col1\" >-0.522233</td>\n",
       "                        <td id=\"T_ede6066c_f03a_11e9_9428_107d1a1d9addrow3_col2\" class=\"data row3 col2\" >0.258199</td>\n",
       "                        <td id=\"T_ede6066c_f03a_11e9_9428_107d1a1d9addrow3_col3\" class=\"data row3 col3\" >1</td>\n",
       "            </tr>\n",
       "    </tbody></table>"
      ],
      "text/plain": [
       "<pandas.io.formats.style.Styler at 0x15183a6d198>"
      ]
     },
     "execution_count": 83,
     "metadata": {},
     "output_type": "execute_result"
    }
   ],
   "source": [
    "import pandas as pd\n",
    "import numpy as np\n",
    "\n",
    "rs = np.random.RandomState(0)\n",
    "# df = pd.DataFrame(rs.rand(10, 10))\n",
    "corr = df1.corr()\n",
    "corr.style.background_gradient(cmap='coolwarm')"
   ]
  },
  {
   "cell_type": "code",
   "execution_count": 93,
   "metadata": {},
   "outputs": [],
   "source": [
    "f = pd.read_csv('data.csv')"
   ]
  },
  {
   "cell_type": "code",
   "execution_count": 95,
   "metadata": {},
   "outputs": [
    {
     "data": {
      "text/html": [
       "<div>\n",
       "<style scoped>\n",
       "    .dataframe tbody tr th:only-of-type {\n",
       "        vertical-align: middle;\n",
       "    }\n",
       "\n",
       "    .dataframe tbody tr th {\n",
       "        vertical-align: top;\n",
       "    }\n",
       "\n",
       "    .dataframe thead th {\n",
       "        text-align: right;\n",
       "    }\n",
       "</style>\n",
       "<table border=\"1\" class=\"dataframe\">\n",
       "  <thead>\n",
       "    <tr style=\"text-align: right;\">\n",
       "      <th></th>\n",
       "      <th>Name</th>\n",
       "      <th>physics</th>\n",
       "      <th>chemistry</th>\n",
       "      <th>Maths</th>\n",
       "      <th>English</th>\n",
       "      <th>Address</th>\n",
       "    </tr>\n",
       "  </thead>\n",
       "  <tbody>\n",
       "    <tr>\n",
       "      <th>0</th>\n",
       "      <td>Rahul</td>\n",
       "      <td>70</td>\n",
       "      <td>75</td>\n",
       "      <td>80</td>\n",
       "      <td>70</td>\n",
       "      <td>Unknown</td>\n",
       "    </tr>\n",
       "    <tr>\n",
       "      <th>1</th>\n",
       "      <td>Rushi</td>\n",
       "      <td>88</td>\n",
       "      <td>89</td>\n",
       "      <td>94</td>\n",
       "      <td>75</td>\n",
       "      <td>Kanpur</td>\n",
       "    </tr>\n",
       "    <tr>\n",
       "      <th>2</th>\n",
       "      <td>Shivam</td>\n",
       "      <td>99</td>\n",
       "      <td>95</td>\n",
       "      <td>93</td>\n",
       "      <td>78</td>\n",
       "      <td>Jaunpur</td>\n",
       "    </tr>\n",
       "    <tr>\n",
       "      <th>3</th>\n",
       "      <td>Virat</td>\n",
       "      <td>35</td>\n",
       "      <td>35</td>\n",
       "      <td>35</td>\n",
       "      <td>35</td>\n",
       "      <td>Delhi</td>\n",
       "    </tr>\n",
       "    <tr>\n",
       "      <th>4</th>\n",
       "      <td>Satish</td>\n",
       "      <td>65</td>\n",
       "      <td>67</td>\n",
       "      <td>16</td>\n",
       "      <td>37</td>\n",
       "      <td>Jaunpur</td>\n",
       "    </tr>\n",
       "    <tr>\n",
       "      <th>5</th>\n",
       "      <td>Suraj</td>\n",
       "      <td>78</td>\n",
       "      <td>29</td>\n",
       "      <td>26</td>\n",
       "      <td>45</td>\n",
       "      <td>Mumbai</td>\n",
       "    </tr>\n",
       "    <tr>\n",
       "      <th>6</th>\n",
       "      <td>Ashish</td>\n",
       "      <td>34</td>\n",
       "      <td>45</td>\n",
       "      <td>78</td>\n",
       "      <td>29</td>\n",
       "      <td>Mumbai</td>\n",
       "    </tr>\n",
       "    <tr>\n",
       "      <th>7</th>\n",
       "      <td>Ajay</td>\n",
       "      <td>78</td>\n",
       "      <td>26</td>\n",
       "      <td>29</td>\n",
       "      <td>58</td>\n",
       "      <td>Jaunpur</td>\n",
       "    </tr>\n",
       "    <tr>\n",
       "      <th>8</th>\n",
       "      <td>Manoj</td>\n",
       "      <td>45</td>\n",
       "      <td>63</td>\n",
       "      <td>46</td>\n",
       "      <td>36</td>\n",
       "      <td>Jaunpur</td>\n",
       "    </tr>\n",
       "  </tbody>\n",
       "</table>\n",
       "</div>"
      ],
      "text/plain": [
       "     Name  physics  chemistry  Maths  English  Address\n",
       "0   Rahul       70         75     80       70  Unknown\n",
       "1   Rushi       88         89     94       75   Kanpur\n",
       "2  Shivam       99         95     93       78  Jaunpur\n",
       "3   Virat       35         35     35       35    Delhi\n",
       "4  Satish       65         67     16       37  Jaunpur\n",
       "5   Suraj       78         29     26       45   Mumbai\n",
       "6  Ashish       34         45     78       29   Mumbai\n",
       "7    Ajay       78         26     29       58  Jaunpur\n",
       "8   Manoj       45         63     46       36  Jaunpur"
      ]
     },
     "execution_count": 95,
     "metadata": {},
     "output_type": "execute_result"
    }
   ],
   "source": [
    "f"
   ]
  },
  {
   "cell_type": "code",
   "execution_count": 96,
   "metadata": {},
   "outputs": [],
   "source": [
    "df2 = pd.DataFrame(f)"
   ]
  },
  {
   "cell_type": "code",
   "execution_count": 97,
   "metadata": {},
   "outputs": [
    {
     "data": {
      "text/html": [
       "<div>\n",
       "<style scoped>\n",
       "    .dataframe tbody tr th:only-of-type {\n",
       "        vertical-align: middle;\n",
       "    }\n",
       "\n",
       "    .dataframe tbody tr th {\n",
       "        vertical-align: top;\n",
       "    }\n",
       "\n",
       "    .dataframe thead th {\n",
       "        text-align: right;\n",
       "    }\n",
       "</style>\n",
       "<table border=\"1\" class=\"dataframe\">\n",
       "  <thead>\n",
       "    <tr style=\"text-align: right;\">\n",
       "      <th></th>\n",
       "      <th>Name</th>\n",
       "      <th>physics</th>\n",
       "      <th>chemistry</th>\n",
       "      <th>Maths</th>\n",
       "      <th>English</th>\n",
       "      <th>Address</th>\n",
       "    </tr>\n",
       "  </thead>\n",
       "  <tbody>\n",
       "    <tr>\n",
       "      <th>0</th>\n",
       "      <td>Rahul</td>\n",
       "      <td>70</td>\n",
       "      <td>75</td>\n",
       "      <td>80</td>\n",
       "      <td>70</td>\n",
       "      <td>Unknown</td>\n",
       "    </tr>\n",
       "    <tr>\n",
       "      <th>1</th>\n",
       "      <td>Rushi</td>\n",
       "      <td>88</td>\n",
       "      <td>89</td>\n",
       "      <td>94</td>\n",
       "      <td>75</td>\n",
       "      <td>Kanpur</td>\n",
       "    </tr>\n",
       "    <tr>\n",
       "      <th>2</th>\n",
       "      <td>Shivam</td>\n",
       "      <td>99</td>\n",
       "      <td>95</td>\n",
       "      <td>93</td>\n",
       "      <td>78</td>\n",
       "      <td>Jaunpur</td>\n",
       "    </tr>\n",
       "    <tr>\n",
       "      <th>3</th>\n",
       "      <td>Virat</td>\n",
       "      <td>35</td>\n",
       "      <td>35</td>\n",
       "      <td>35</td>\n",
       "      <td>35</td>\n",
       "      <td>Delhi</td>\n",
       "    </tr>\n",
       "    <tr>\n",
       "      <th>4</th>\n",
       "      <td>Satish</td>\n",
       "      <td>65</td>\n",
       "      <td>67</td>\n",
       "      <td>16</td>\n",
       "      <td>37</td>\n",
       "      <td>Jaunpur</td>\n",
       "    </tr>\n",
       "    <tr>\n",
       "      <th>5</th>\n",
       "      <td>Suraj</td>\n",
       "      <td>78</td>\n",
       "      <td>29</td>\n",
       "      <td>26</td>\n",
       "      <td>45</td>\n",
       "      <td>Mumbai</td>\n",
       "    </tr>\n",
       "    <tr>\n",
       "      <th>6</th>\n",
       "      <td>Ashish</td>\n",
       "      <td>34</td>\n",
       "      <td>45</td>\n",
       "      <td>78</td>\n",
       "      <td>29</td>\n",
       "      <td>Mumbai</td>\n",
       "    </tr>\n",
       "    <tr>\n",
       "      <th>7</th>\n",
       "      <td>Ajay</td>\n",
       "      <td>78</td>\n",
       "      <td>26</td>\n",
       "      <td>29</td>\n",
       "      <td>58</td>\n",
       "      <td>Jaunpur</td>\n",
       "    </tr>\n",
       "    <tr>\n",
       "      <th>8</th>\n",
       "      <td>Manoj</td>\n",
       "      <td>45</td>\n",
       "      <td>63</td>\n",
       "      <td>46</td>\n",
       "      <td>36</td>\n",
       "      <td>Jaunpur</td>\n",
       "    </tr>\n",
       "  </tbody>\n",
       "</table>\n",
       "</div>"
      ],
      "text/plain": [
       "     Name  physics  chemistry  Maths  English  Address\n",
       "0   Rahul       70         75     80       70  Unknown\n",
       "1   Rushi       88         89     94       75   Kanpur\n",
       "2  Shivam       99         95     93       78  Jaunpur\n",
       "3   Virat       35         35     35       35    Delhi\n",
       "4  Satish       65         67     16       37  Jaunpur\n",
       "5   Suraj       78         29     26       45   Mumbai\n",
       "6  Ashish       34         45     78       29   Mumbai\n",
       "7    Ajay       78         26     29       58  Jaunpur\n",
       "8   Manoj       45         63     46       36  Jaunpur"
      ]
     },
     "execution_count": 97,
     "metadata": {},
     "output_type": "execute_result"
    }
   ],
   "source": [
    "df2"
   ]
  },
  {
   "cell_type": "code",
   "execution_count": 99,
   "metadata": {},
   "outputs": [],
   "source": [
    "from sklearn import preprocessing\n",
    "\n",
    "for x in df2.columns:\n",
    "    if df2[x].dtype == 'object':\n",
    "        lbl = preprocessing.LabelEncoder()\n",
    "        lbl.fit(list(df2[x].values))\n",
    "        df2[x] = lbl.transform(list(df2[x].values))"
   ]
  },
  {
   "cell_type": "code",
   "execution_count": 100,
   "metadata": {
    "scrolled": true
   },
   "outputs": [
    {
     "data": {
      "text/html": [
       "<div>\n",
       "<style scoped>\n",
       "    .dataframe tbody tr th:only-of-type {\n",
       "        vertical-align: middle;\n",
       "    }\n",
       "\n",
       "    .dataframe tbody tr th {\n",
       "        vertical-align: top;\n",
       "    }\n",
       "\n",
       "    .dataframe thead th {\n",
       "        text-align: right;\n",
       "    }\n",
       "</style>\n",
       "<table border=\"1\" class=\"dataframe\">\n",
       "  <thead>\n",
       "    <tr style=\"text-align: right;\">\n",
       "      <th></th>\n",
       "      <th>Name</th>\n",
       "      <th>physics</th>\n",
       "      <th>chemistry</th>\n",
       "      <th>Maths</th>\n",
       "      <th>English</th>\n",
       "      <th>Address</th>\n",
       "    </tr>\n",
       "  </thead>\n",
       "  <tbody>\n",
       "    <tr>\n",
       "      <th>0</th>\n",
       "      <td>3</td>\n",
       "      <td>70</td>\n",
       "      <td>75</td>\n",
       "      <td>80</td>\n",
       "      <td>70</td>\n",
       "      <td>4</td>\n",
       "    </tr>\n",
       "    <tr>\n",
       "      <th>1</th>\n",
       "      <td>4</td>\n",
       "      <td>88</td>\n",
       "      <td>89</td>\n",
       "      <td>94</td>\n",
       "      <td>75</td>\n",
       "      <td>2</td>\n",
       "    </tr>\n",
       "    <tr>\n",
       "      <th>2</th>\n",
       "      <td>6</td>\n",
       "      <td>99</td>\n",
       "      <td>95</td>\n",
       "      <td>93</td>\n",
       "      <td>78</td>\n",
       "      <td>1</td>\n",
       "    </tr>\n",
       "    <tr>\n",
       "      <th>3</th>\n",
       "      <td>8</td>\n",
       "      <td>35</td>\n",
       "      <td>35</td>\n",
       "      <td>35</td>\n",
       "      <td>35</td>\n",
       "      <td>0</td>\n",
       "    </tr>\n",
       "    <tr>\n",
       "      <th>4</th>\n",
       "      <td>5</td>\n",
       "      <td>65</td>\n",
       "      <td>67</td>\n",
       "      <td>16</td>\n",
       "      <td>37</td>\n",
       "      <td>1</td>\n",
       "    </tr>\n",
       "    <tr>\n",
       "      <th>5</th>\n",
       "      <td>7</td>\n",
       "      <td>78</td>\n",
       "      <td>29</td>\n",
       "      <td>26</td>\n",
       "      <td>45</td>\n",
       "      <td>3</td>\n",
       "    </tr>\n",
       "    <tr>\n",
       "      <th>6</th>\n",
       "      <td>1</td>\n",
       "      <td>34</td>\n",
       "      <td>45</td>\n",
       "      <td>78</td>\n",
       "      <td>29</td>\n",
       "      <td>3</td>\n",
       "    </tr>\n",
       "    <tr>\n",
       "      <th>7</th>\n",
       "      <td>0</td>\n",
       "      <td>78</td>\n",
       "      <td>26</td>\n",
       "      <td>29</td>\n",
       "      <td>58</td>\n",
       "      <td>1</td>\n",
       "    </tr>\n",
       "    <tr>\n",
       "      <th>8</th>\n",
       "      <td>2</td>\n",
       "      <td>45</td>\n",
       "      <td>63</td>\n",
       "      <td>46</td>\n",
       "      <td>36</td>\n",
       "      <td>1</td>\n",
       "    </tr>\n",
       "  </tbody>\n",
       "</table>\n",
       "</div>"
      ],
      "text/plain": [
       "   Name  physics  chemistry  Maths  English  Address\n",
       "0     3       70         75     80       70        4\n",
       "1     4       88         89     94       75        2\n",
       "2     6       99         95     93       78        1\n",
       "3     8       35         35     35       35        0\n",
       "4     5       65         67     16       37        1\n",
       "5     7       78         29     26       45        3\n",
       "6     1       34         45     78       29        3\n",
       "7     0       78         26     29       58        1\n",
       "8     2       45         63     46       36        1"
      ]
     },
     "execution_count": 100,
     "metadata": {},
     "output_type": "execute_result"
    }
   ],
   "source": [
    "df2"
   ]
  },
  {
   "cell_type": "code",
   "execution_count": 101,
   "metadata": {},
   "outputs": [
    {
     "data": {
      "text/html": [
       "<div>\n",
       "<style scoped>\n",
       "    .dataframe tbody tr th:only-of-type {\n",
       "        vertical-align: middle;\n",
       "    }\n",
       "\n",
       "    .dataframe tbody tr th {\n",
       "        vertical-align: top;\n",
       "    }\n",
       "\n",
       "    .dataframe thead th {\n",
       "        text-align: right;\n",
       "    }\n",
       "</style>\n",
       "<table border=\"1\" class=\"dataframe\">\n",
       "  <thead>\n",
       "    <tr style=\"text-align: right;\">\n",
       "      <th></th>\n",
       "      <th>Name</th>\n",
       "      <th>physics</th>\n",
       "      <th>chemistry</th>\n",
       "      <th>Maths</th>\n",
       "      <th>English</th>\n",
       "      <th>Address</th>\n",
       "    </tr>\n",
       "  </thead>\n",
       "  <tbody>\n",
       "    <tr>\n",
       "      <th>Name</th>\n",
       "      <td>1.000000</td>\n",
       "      <td>0.123980</td>\n",
       "      <td>0.078118</td>\n",
       "      <td>-0.150677</td>\n",
       "      <td>0.016752</td>\n",
       "      <td>-0.245450</td>\n",
       "    </tr>\n",
       "    <tr>\n",
       "      <th>physics</th>\n",
       "      <td>0.123980</td>\n",
       "      <td>1.000000</td>\n",
       "      <td>0.472605</td>\n",
       "      <td>0.290321</td>\n",
       "      <td>0.858128</td>\n",
       "      <td>0.109947</td>\n",
       "    </tr>\n",
       "    <tr>\n",
       "      <th>chemistry</th>\n",
       "      <td>0.078118</td>\n",
       "      <td>0.472605</td>\n",
       "      <td>1.000000</td>\n",
       "      <td>0.704590</td>\n",
       "      <td>0.629179</td>\n",
       "      <td>0.072629</td>\n",
       "    </tr>\n",
       "    <tr>\n",
       "      <th>Maths</th>\n",
       "      <td>-0.150677</td>\n",
       "      <td>0.290321</td>\n",
       "      <td>0.704590</td>\n",
       "      <td>1.000000</td>\n",
       "      <td>0.620019</td>\n",
       "      <td>0.374327</td>\n",
       "    </tr>\n",
       "    <tr>\n",
       "      <th>English</th>\n",
       "      <td>0.016752</td>\n",
       "      <td>0.858128</td>\n",
       "      <td>0.629179</td>\n",
       "      <td>0.620019</td>\n",
       "      <td>1.000000</td>\n",
       "      <td>0.190761</td>\n",
       "    </tr>\n",
       "    <tr>\n",
       "      <th>Address</th>\n",
       "      <td>-0.245450</td>\n",
       "      <td>0.109947</td>\n",
       "      <td>0.072629</td>\n",
       "      <td>0.374327</td>\n",
       "      <td>0.190761</td>\n",
       "      <td>1.000000</td>\n",
       "    </tr>\n",
       "  </tbody>\n",
       "</table>\n",
       "</div>"
      ],
      "text/plain": [
       "               Name   physics  chemistry     Maths   English   Address\n",
       "Name       1.000000  0.123980   0.078118 -0.150677  0.016752 -0.245450\n",
       "physics    0.123980  1.000000   0.472605  0.290321  0.858128  0.109947\n",
       "chemistry  0.078118  0.472605   1.000000  0.704590  0.629179  0.072629\n",
       "Maths     -0.150677  0.290321   0.704590  1.000000  0.620019  0.374327\n",
       "English    0.016752  0.858128   0.629179  0.620019  1.000000  0.190761\n",
       "Address   -0.245450  0.109947   0.072629  0.374327  0.190761  1.000000"
      ]
     },
     "execution_count": 101,
     "metadata": {},
     "output_type": "execute_result"
    }
   ],
   "source": [
    "df2.corr()"
   ]
  },
  {
   "cell_type": "code",
   "execution_count": 102,
   "metadata": {},
   "outputs": [
    {
     "data": {
      "text/html": [
       "<div>\n",
       "<style scoped>\n",
       "    .dataframe tbody tr th:only-of-type {\n",
       "        vertical-align: middle;\n",
       "    }\n",
       "\n",
       "    .dataframe tbody tr th {\n",
       "        vertical-align: top;\n",
       "    }\n",
       "\n",
       "    .dataframe thead th {\n",
       "        text-align: right;\n",
       "    }\n",
       "</style>\n",
       "<table border=\"1\" class=\"dataframe\">\n",
       "  <thead>\n",
       "    <tr style=\"text-align: right;\">\n",
       "      <th></th>\n",
       "      <th>Name</th>\n",
       "      <th>physics</th>\n",
       "      <th>chemistry</th>\n",
       "      <th>Maths</th>\n",
       "      <th>English</th>\n",
       "      <th>Address</th>\n",
       "    </tr>\n",
       "  </thead>\n",
       "  <tbody>\n",
       "    <tr>\n",
       "      <th>0</th>\n",
       "      <td>3</td>\n",
       "      <td>70</td>\n",
       "      <td>75</td>\n",
       "      <td>80</td>\n",
       "      <td>70</td>\n",
       "      <td>4</td>\n",
       "    </tr>\n",
       "    <tr>\n",
       "      <th>1</th>\n",
       "      <td>4</td>\n",
       "      <td>88</td>\n",
       "      <td>89</td>\n",
       "      <td>94</td>\n",
       "      <td>75</td>\n",
       "      <td>2</td>\n",
       "    </tr>\n",
       "    <tr>\n",
       "      <th>2</th>\n",
       "      <td>6</td>\n",
       "      <td>99</td>\n",
       "      <td>95</td>\n",
       "      <td>93</td>\n",
       "      <td>78</td>\n",
       "      <td>1</td>\n",
       "    </tr>\n",
       "    <tr>\n",
       "      <th>3</th>\n",
       "      <td>8</td>\n",
       "      <td>35</td>\n",
       "      <td>35</td>\n",
       "      <td>35</td>\n",
       "      <td>35</td>\n",
       "      <td>0</td>\n",
       "    </tr>\n",
       "    <tr>\n",
       "      <th>4</th>\n",
       "      <td>5</td>\n",
       "      <td>65</td>\n",
       "      <td>67</td>\n",
       "      <td>16</td>\n",
       "      <td>37</td>\n",
       "      <td>1</td>\n",
       "    </tr>\n",
       "    <tr>\n",
       "      <th>5</th>\n",
       "      <td>7</td>\n",
       "      <td>78</td>\n",
       "      <td>29</td>\n",
       "      <td>26</td>\n",
       "      <td>45</td>\n",
       "      <td>3</td>\n",
       "    </tr>\n",
       "    <tr>\n",
       "      <th>6</th>\n",
       "      <td>1</td>\n",
       "      <td>34</td>\n",
       "      <td>45</td>\n",
       "      <td>78</td>\n",
       "      <td>29</td>\n",
       "      <td>3</td>\n",
       "    </tr>\n",
       "    <tr>\n",
       "      <th>7</th>\n",
       "      <td>0</td>\n",
       "      <td>78</td>\n",
       "      <td>26</td>\n",
       "      <td>29</td>\n",
       "      <td>58</td>\n",
       "      <td>1</td>\n",
       "    </tr>\n",
       "    <tr>\n",
       "      <th>8</th>\n",
       "      <td>2</td>\n",
       "      <td>45</td>\n",
       "      <td>63</td>\n",
       "      <td>46</td>\n",
       "      <td>36</td>\n",
       "      <td>1</td>\n",
       "    </tr>\n",
       "  </tbody>\n",
       "</table>\n",
       "</div>"
      ],
      "text/plain": [
       "   Name  physics  chemistry  Maths  English  Address\n",
       "0     3       70         75     80       70        4\n",
       "1     4       88         89     94       75        2\n",
       "2     6       99         95     93       78        1\n",
       "3     8       35         35     35       35        0\n",
       "4     5       65         67     16       37        1\n",
       "5     7       78         29     26       45        3\n",
       "6     1       34         45     78       29        3\n",
       "7     0       78         26     29       58        1\n",
       "8     2       45         63     46       36        1"
      ]
     },
     "execution_count": 102,
     "metadata": {},
     "output_type": "execute_result"
    }
   ],
   "source": [
    "df2"
   ]
  },
  {
   "cell_type": "code",
   "execution_count": 108,
   "metadata": {
    "scrolled": true
   },
   "outputs": [
    {
     "data": {
      "text/plain": [
       "'{\"columns\":[\"Name\",\"physics\",\"chemistry\",\"Maths\",\"English\",\"Address\"],\"index\":[0,1,2,3,4,5,6,7,8],\"data\":[[3,70,75,80,70,4],[4,88,89,94,75,2],[6,99,95,93,78,1],[8,35,35,35,35,0],[5,65,67,16,37,1],[7,78,29,26,45,3],[1,34,45,78,29,3],[0,78,26,29,58,1],[2,45,63,46,36,1]]}'"
      ]
     },
     "execution_count": 108,
     "metadata": {},
     "output_type": "execute_result"
    }
   ],
   "source": [
    "df2.to_json(orient='split')"
   ]
  },
  {
   "cell_type": "code",
   "execution_count": 109,
   "metadata": {},
   "outputs": [],
   "source": [
    "js = df2.to_json(orient='table')"
   ]
  },
  {
   "cell_type": "code",
   "execution_count": 110,
   "metadata": {},
   "outputs": [
    {
     "data": {
      "text/plain": [
       "'{\"schema\": {\"fields\":[{\"name\":\"index\",\"type\":\"integer\"},{\"name\":\"Name\",\"type\":\"integer\"},{\"name\":\"physics\",\"type\":\"integer\"},{\"name\":\"chemistry\",\"type\":\"integer\"},{\"name\":\"Maths\",\"type\":\"integer\"},{\"name\":\"English\",\"type\":\"integer\"},{\"name\":\"Address\",\"type\":\"integer\"}],\"primaryKey\":[\"index\"],\"pandas_version\":\"0.20.0\"}, \"data\": [{\"index\":0,\"Name\":3,\"physics\":70,\"chemistry\":75,\"Maths\":80,\"English\":70,\"Address\":4},{\"index\":1,\"Name\":4,\"physics\":88,\"chemistry\":89,\"Maths\":94,\"English\":75,\"Address\":2},{\"index\":2,\"Name\":6,\"physics\":99,\"chemistry\":95,\"Maths\":93,\"English\":78,\"Address\":1},{\"index\":3,\"Name\":8,\"physics\":35,\"chemistry\":35,\"Maths\":35,\"English\":35,\"Address\":0},{\"index\":4,\"Name\":5,\"physics\":65,\"chemistry\":67,\"Maths\":16,\"English\":37,\"Address\":1},{\"index\":5,\"Name\":7,\"physics\":78,\"chemistry\":29,\"Maths\":26,\"English\":45,\"Address\":3},{\"index\":6,\"Name\":1,\"physics\":34,\"chemistry\":45,\"Maths\":78,\"English\":29,\"Address\":3},{\"index\":7,\"Name\":0,\"physics\":78,\"chemistry\":26,\"Maths\":29,\"English\":58,\"Address\":1},{\"index\":8,\"Name\":2,\"physics\":45,\"chemistry\":63,\"Maths\":46,\"English\":36,\"Address\":1}]}'"
      ]
     },
     "execution_count": 110,
     "metadata": {},
     "output_type": "execute_result"
    }
   ],
   "source": [
    "js"
   ]
  },
  {
   "cell_type": "code",
   "execution_count": 111,
   "metadata": {},
   "outputs": [],
   "source": [
    "js = df2.to_json(orient='records')"
   ]
  },
  {
   "cell_type": "code",
   "execution_count": 112,
   "metadata": {},
   "outputs": [
    {
     "data": {
      "text/plain": [
       "'[{\"Name\":3,\"physics\":70,\"chemistry\":75,\"Maths\":80,\"English\":70,\"Address\":4},{\"Name\":4,\"physics\":88,\"chemistry\":89,\"Maths\":94,\"English\":75,\"Address\":2},{\"Name\":6,\"physics\":99,\"chemistry\":95,\"Maths\":93,\"English\":78,\"Address\":1},{\"Name\":8,\"physics\":35,\"chemistry\":35,\"Maths\":35,\"English\":35,\"Address\":0},{\"Name\":5,\"physics\":65,\"chemistry\":67,\"Maths\":16,\"English\":37,\"Address\":1},{\"Name\":7,\"physics\":78,\"chemistry\":29,\"Maths\":26,\"English\":45,\"Address\":3},{\"Name\":1,\"physics\":34,\"chemistry\":45,\"Maths\":78,\"English\":29,\"Address\":3},{\"Name\":0,\"physics\":78,\"chemistry\":26,\"Maths\":29,\"English\":58,\"Address\":1},{\"Name\":2,\"physics\":45,\"chemistry\":63,\"Maths\":46,\"English\":36,\"Address\":1}]'"
      ]
     },
     "execution_count": 112,
     "metadata": {},
     "output_type": "execute_result"
    }
   ],
   "source": [
    "js"
   ]
  },
  {
   "cell_type": "code",
   "execution_count": null,
   "metadata": {},
   "outputs": [],
   "source": [
    "js = df2.to_json(orient='values')"
   ]
  },
  {
   "cell_type": "code",
   "execution_count": 117,
   "metadata": {},
   "outputs": [
    {
     "data": {
      "text/plain": [
       "'[{\"Name\":3,\"physics\":70,\"chemistry\":75,\"Maths\":80,\"English\":70,\"Address\":4},{\"Name\":4,\"physics\":88,\"chemistry\":89,\"Maths\":94,\"English\":75,\"Address\":2},{\"Name\":6,\"physics\":99,\"chemistry\":95,\"Maths\":93,\"English\":78,\"Address\":1},{\"Name\":8,\"physics\":35,\"chemistry\":35,\"Maths\":35,\"English\":35,\"Address\":0},{\"Name\":5,\"physics\":65,\"chemistry\":67,\"Maths\":16,\"English\":37,\"Address\":1},{\"Name\":7,\"physics\":78,\"chemistry\":29,\"Maths\":26,\"English\":45,\"Address\":3},{\"Name\":1,\"physics\":34,\"chemistry\":45,\"Maths\":78,\"English\":29,\"Address\":3},{\"Name\":0,\"physics\":78,\"chemistry\":26,\"Maths\":29,\"English\":58,\"Address\":1},{\"Name\":2,\"physics\":45,\"chemistry\":63,\"Maths\":46,\"English\":36,\"Address\":1}]'"
      ]
     },
     "execution_count": 117,
     "metadata": {},
     "output_type": "execute_result"
    }
   ],
   "source": [
    "js"
   ]
  },
  {
   "cell_type": "code",
   "execution_count": 113,
   "metadata": {},
   "outputs": [],
   "source": [
    "a = df2.corr()"
   ]
  },
  {
   "cell_type": "code",
   "execution_count": 114,
   "metadata": {},
   "outputs": [
    {
     "data": {
      "text/html": [
       "<div>\n",
       "<style scoped>\n",
       "    .dataframe tbody tr th:only-of-type {\n",
       "        vertical-align: middle;\n",
       "    }\n",
       "\n",
       "    .dataframe tbody tr th {\n",
       "        vertical-align: top;\n",
       "    }\n",
       "\n",
       "    .dataframe thead th {\n",
       "        text-align: right;\n",
       "    }\n",
       "</style>\n",
       "<table border=\"1\" class=\"dataframe\">\n",
       "  <thead>\n",
       "    <tr style=\"text-align: right;\">\n",
       "      <th></th>\n",
       "      <th>Name</th>\n",
       "      <th>physics</th>\n",
       "      <th>chemistry</th>\n",
       "      <th>Maths</th>\n",
       "      <th>English</th>\n",
       "      <th>Address</th>\n",
       "    </tr>\n",
       "  </thead>\n",
       "  <tbody>\n",
       "    <tr>\n",
       "      <th>Name</th>\n",
       "      <td>1.000000</td>\n",
       "      <td>0.123980</td>\n",
       "      <td>0.078118</td>\n",
       "      <td>-0.150677</td>\n",
       "      <td>0.016752</td>\n",
       "      <td>-0.245450</td>\n",
       "    </tr>\n",
       "    <tr>\n",
       "      <th>physics</th>\n",
       "      <td>0.123980</td>\n",
       "      <td>1.000000</td>\n",
       "      <td>0.472605</td>\n",
       "      <td>0.290321</td>\n",
       "      <td>0.858128</td>\n",
       "      <td>0.109947</td>\n",
       "    </tr>\n",
       "    <tr>\n",
       "      <th>chemistry</th>\n",
       "      <td>0.078118</td>\n",
       "      <td>0.472605</td>\n",
       "      <td>1.000000</td>\n",
       "      <td>0.704590</td>\n",
       "      <td>0.629179</td>\n",
       "      <td>0.072629</td>\n",
       "    </tr>\n",
       "    <tr>\n",
       "      <th>Maths</th>\n",
       "      <td>-0.150677</td>\n",
       "      <td>0.290321</td>\n",
       "      <td>0.704590</td>\n",
       "      <td>1.000000</td>\n",
       "      <td>0.620019</td>\n",
       "      <td>0.374327</td>\n",
       "    </tr>\n",
       "    <tr>\n",
       "      <th>English</th>\n",
       "      <td>0.016752</td>\n",
       "      <td>0.858128</td>\n",
       "      <td>0.629179</td>\n",
       "      <td>0.620019</td>\n",
       "      <td>1.000000</td>\n",
       "      <td>0.190761</td>\n",
       "    </tr>\n",
       "    <tr>\n",
       "      <th>Address</th>\n",
       "      <td>-0.245450</td>\n",
       "      <td>0.109947</td>\n",
       "      <td>0.072629</td>\n",
       "      <td>0.374327</td>\n",
       "      <td>0.190761</td>\n",
       "      <td>1.000000</td>\n",
       "    </tr>\n",
       "  </tbody>\n",
       "</table>\n",
       "</div>"
      ],
      "text/plain": [
       "               Name   physics  chemistry     Maths   English   Address\n",
       "Name       1.000000  0.123980   0.078118 -0.150677  0.016752 -0.245450\n",
       "physics    0.123980  1.000000   0.472605  0.290321  0.858128  0.109947\n",
       "chemistry  0.078118  0.472605   1.000000  0.704590  0.629179  0.072629\n",
       "Maths     -0.150677  0.290321   0.704590  1.000000  0.620019  0.374327\n",
       "English    0.016752  0.858128   0.629179  0.620019  1.000000  0.190761\n",
       "Address   -0.245450  0.109947   0.072629  0.374327  0.190761  1.000000"
      ]
     },
     "execution_count": 114,
     "metadata": {},
     "output_type": "execute_result"
    }
   ],
   "source": [
    "a"
   ]
  },
  {
   "cell_type": "code",
   "execution_count": 115,
   "metadata": {},
   "outputs": [
    {
     "data": {
      "text/plain": [
       "pandas.core.frame.DataFrame"
      ]
     },
     "execution_count": 115,
     "metadata": {},
     "output_type": "execute_result"
    }
   ],
   "source": [
    "type(a)"
   ]
  },
  {
   "cell_type": "code",
   "execution_count": 116,
   "metadata": {},
   "outputs": [
    {
     "data": {
      "text/plain": [
       "{'Name': {'Name': 1.0,\n",
       "  'physics': 0.12397988163526504,\n",
       "  'chemistry': 0.07811772366720385,\n",
       "  'Maths': -0.15067713553712772,\n",
       "  'English': 0.016751717423966205,\n",
       "  'Address': -0.24545040566139686},\n",
       " 'physics': {'Name': 0.12397988163526504,\n",
       "  'physics': 1.0,\n",
       "  'chemistry': 0.47260505112157175,\n",
       "  'Maths': 0.2903209697758351,\n",
       "  'English': 0.8581280919924756,\n",
       "  'Address': 0.1099469089290013},\n",
       " 'chemistry': {'Name': 0.07811772366720385,\n",
       "  'physics': 0.47260505112157175,\n",
       "  'chemistry': 1.0,\n",
       "  'Maths': 0.7045897486862586,\n",
       "  'English': 0.6291789135030855,\n",
       "  'Address': 0.07262889001310636},\n",
       " 'Maths': {'Name': -0.15067713553712772,\n",
       "  'physics': 0.2903209697758351,\n",
       "  'chemistry': 0.7045897486862586,\n",
       "  'Maths': 1.0,\n",
       "  'English': 0.620019082739883,\n",
       "  'Address': 0.3743267994488332},\n",
       " 'English': {'Name': 0.016751717423966205,\n",
       "  'physics': 0.8581280919924756,\n",
       "  'chemistry': 0.6291789135030855,\n",
       "  'Maths': 0.620019082739883,\n",
       "  'English': 1.0,\n",
       "  'Address': 0.19076123816299587},\n",
       " 'Address': {'Name': -0.24545040566139686,\n",
       "  'physics': 0.1099469089290013,\n",
       "  'chemistry': 0.07262889001310636,\n",
       "  'Maths': 0.3743267994488332,\n",
       "  'English': 0.19076123816299587,\n",
       "  'Address': 1.0}}"
      ]
     },
     "execution_count": 116,
     "metadata": {},
     "output_type": "execute_result"
    }
   ],
   "source": [
    "a.to_dict()"
   ]
  },
  {
   "cell_type": "code",
   "execution_count": null,
   "metadata": {},
   "outputs": [],
   "source": []
  }
 ],
 "metadata": {
  "kernelspec": {
   "display_name": "Python 3",
   "language": "python",
   "name": "python3"
  },
  "language_info": {
   "codemirror_mode": {
    "name": "ipython",
    "version": 3
   },
   "file_extension": ".py",
   "mimetype": "text/x-python",
   "name": "python",
   "nbconvert_exporter": "python",
   "pygments_lexer": "ipython3",
   "version": "3.7.3"
  }
 },
 "nbformat": 4,
 "nbformat_minor": 2
}
